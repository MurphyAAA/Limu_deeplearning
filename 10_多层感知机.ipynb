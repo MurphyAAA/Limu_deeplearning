{
 "cells": [
  {
   "metadata": {},
   "cell_type": "markdown",
   "source": "# 多层感知机的从0开始实现",
   "id": "459e80ff54caceaf"
  },
  {
   "cell_type": "code",
   "id": "initial_id",
   "metadata": {
    "collapsed": true,
    "ExecuteTime": {
     "end_time": "2025-05-19T00:53:57.682541Z",
     "start_time": "2025-05-19T00:53:45.146010Z"
    }
   },
   "source": [
    "import torch\n",
    "from torch import nn\n",
    "from d2l import torch as d2l\n",
    "\n",
    "batch_size = 256\n",
    "train_iter, test_iter = d2l.load_data_fashion_mnist(batch_size)"
   ],
   "outputs": [],
   "execution_count": 1
  },
  {
   "metadata": {},
   "cell_type": "markdown",
   "source": "实现一个具有单隐藏层的多层感知机（有1个隐藏层也是多层），他包含256个隐藏单元",
   "id": "e4a3a3c1a5187ba2"
  },
  {
   "metadata": {
    "ExecuteTime": {
     "end_time": "2025-05-19T01:58:49.394797Z",
     "start_time": "2025-05-19T01:58:49.368504Z"
    }
   },
   "cell_type": "code",
   "source": [
    "num_inputs, num_outputs, num_hiddens = 784, 10, 256\n",
    "# nn.Parameter()可加可不加，就是声明是一个torch的parameter\n",
    "W1 = nn.Parameter(torch.randn(num_inputs, num_hiddens,requires_grad=True))\n",
    "b1 = nn.Parameter(torch.zeros(num_hiddens,requires_grad=True))\n",
    "\n",
    "W2 = nn.Parameter(torch.randn(num_hiddens, num_outputs,requires_grad=True))\n",
    "b2 = nn.Parameter(torch.zeros(num_outputs,requires_grad=True))\n",
    "\n",
    "params = [W1, b1, W2, b2]"
   ],
   "id": "f1c4e415184c56ac",
   "outputs": [],
   "execution_count": 2
  },
  {
   "metadata": {},
   "cell_type": "markdown",
   "source": "实现ReLU激活函数",
   "id": "917da6fd2ddfd4fd"
  },
  {
   "metadata": {
    "ExecuteTime": {
     "end_time": "2025-05-19T01:58:51.224608Z",
     "start_time": "2025-05-19T01:58:51.212609Z"
    }
   },
   "cell_type": "code",
   "source": [
    "def relu(X):\n",
    "    a = torch.zeros_like(X)\n",
    "    return torch.max(X, a)"
   ],
   "id": "c6474232048de125",
   "outputs": [],
   "execution_count": 3
  },
  {
   "metadata": {},
   "cell_type": "markdown",
   "source": "实现模型",
   "id": "8a09a0888fa1b96c"
  },
  {
   "metadata": {
    "ExecuteTime": {
     "end_time": "2025-05-19T02:00:30.503329Z",
     "start_time": "2025-05-19T02:00:30.484800Z"
    }
   },
   "cell_type": "code",
   "source": [
    "def net(X):\n",
    "    X = X.reshape(-1, num_inputs)\n",
    "    H = relu(X @ W1 + b1) # torch.matmul() 和 @一样\n",
    "    return (H @ W2 + b2) # 隐藏层输出和第二层权重相乘+bias\n",
    "\n",
    "loss = nn.CrossEntropyLoss()"
   ],
   "id": "9c1b2136416b819f",
   "outputs": [],
   "execution_count": 5
  },
  {
   "metadata": {},
   "cell_type": "markdown",
   "source": "训练",
   "id": "8239d95ce1b84e11"
  },
  {
   "metadata": {},
   "cell_type": "code",
   "outputs": [],
   "execution_count": null,
   "source": [
    "num_epochs, lr = 10, 0.1\n",
    "updater = torch.optim.SGD(params, lr=lr)\n",
    "train_ch3(net, train_iter, test_iter, loss, num_epochs, updater)\n",
    "# 模型更大了，数据拟合性更好，所以损失下降"
   ],
   "id": "6297f14976488a2a"
  },
  {
   "metadata": {},
   "cell_type": "markdown",
   "source": "# 多层感知机简洁实现",
   "id": "25f7ca5028df4c33"
  },
  {
   "metadata": {
    "ExecuteTime": {
     "end_time": "2025-05-19T02:09:40.838111Z",
     "start_time": "2025-05-19T02:09:40.826935Z"
    }
   },
   "cell_type": "code",
   "source": [
    "import torch\n",
    "from torch import nn\n",
    "from d2l import torch as d2l"
   ],
   "id": "24b09b206c6837ed",
   "outputs": [],
   "execution_count": 7
  },
  {
   "metadata": {
    "ExecuteTime": {
     "end_time": "2025-05-19T02:50:57.309370Z",
     "start_time": "2025-05-19T02:50:57.291763Z"
    }
   },
   "cell_type": "code",
   "source": [
    "num_inputs, num_outputs, num_hiddens = 784, 10, 256\n",
    "net = nn.Sequential(nn.Flatten(),  # 28,28 -> 784\n",
    "                    nn.Linear(num_inputs, num_hiddens), # 直接nn.Linear()不用自己计算wx+b了\n",
    "                    nn.ReLU(), \n",
    "                    nn.Linear(num_hiddens, num_outputs))\n",
    "\n",
    "def init_weights(m):\n",
    "    if type(m) == nn.Linear:\n",
    "        nn.init.normal_(m.weight, std=0.01)\n",
    "        \n",
    "net.apply(init_weights)"
   ],
   "id": "7b8c2cbeae97737a",
   "outputs": [
    {
     "data": {
      "text/plain": [
       "Sequential(\n",
       "  (0): Flatten(start_dim=1, end_dim=-1)\n",
       "  (1): Linear(in_features=784, out_features=256, bias=True)\n",
       "  (2): ReLU()\n",
       "  (3): Linear(in_features=256, out_features=10, bias=True)\n",
       ")"
      ]
     },
     "execution_count": 9,
     "metadata": {},
     "output_type": "execute_result"
    }
   ],
   "execution_count": 9
  },
  {
   "metadata": {},
   "cell_type": "markdown",
   "source": "训练",
   "id": "5ace2b989aa485a3"
  },
  {
   "metadata": {},
   "cell_type": "code",
   "outputs": [],
   "execution_count": null,
   "source": [
    "batch_size, lr, num_epochs = 256, 0.1, 10\n",
    "loss = nn.CrossEntropyLoss()\n",
    "updater = torch.optim.SGD(net.parameters(), lr=lr)\n",
    "\n",
    "train_iter, test_iter = d2l.load_data_fashion_mnist(batch_size)\n",
    "d2l.train_ch3(net, train_iter, test_iter, loss, num_epochs, updater)"
   ],
   "id": "21d82dbda1e9f6cf"
  }
 ],
 "metadata": {
  "kernelspec": {
   "display_name": "Python 3",
   "language": "python",
   "name": "python3"
  },
  "language_info": {
   "codemirror_mode": {
    "name": "ipython",
    "version": 2
   },
   "file_extension": ".py",
   "mimetype": "text/x-python",
   "name": "python",
   "nbconvert_exporter": "python",
   "pygments_lexer": "ipython2",
   "version": "2.7.6"
  }
 },
 "nbformat": 4,
 "nbformat_minor": 5
}
