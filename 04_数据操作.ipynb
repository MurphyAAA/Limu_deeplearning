{
 "cells": [
  {
   "metadata": {},
   "cell_type": "markdown",
   "source": "# 基本操作",
   "id": "4172620c1d6cf128"
  },
  {
   "cell_type": "code",
   "id": "initial_id",
   "metadata": {
    "collapsed": true,
    "ExecuteTime": {
     "end_time": "2025-05-11T03:43:05.784443Z",
     "start_time": "2025-05-11T03:42:56.845312Z"
    }
   },
   "source": "import torch",
   "outputs": [],
   "execution_count": 1
  },
  {
   "metadata": {},
   "cell_type": "markdown",
   "source": "张量表示一个由数值组成的数组，这个数组可能有多个维度",
   "id": "c29a7c43c5a5dcb0"
  },
  {
   "metadata": {
    "ExecuteTime": {
     "end_time": "2025-05-11T03:44:18.867421Z",
     "start_time": "2025-05-11T03:44:18.858408Z"
    }
   },
   "cell_type": "code",
   "source": [
    "x = torch.arange(12)\n",
    "x"
   ],
   "id": "32b5277dc5291815",
   "outputs": [
    {
     "data": {
      "text/plain": [
       "tensor([ 0,  1,  2,  3,  4,  5,  6,  7,  8,  9, 10, 11])"
      ]
     },
     "execution_count": 3,
     "metadata": {},
     "output_type": "execute_result"
    }
   ],
   "execution_count": 3
  },
  {
   "metadata": {},
   "cell_type": "markdown",
   "source": "访问张量的形状：shape",
   "id": "25864617e3297c6e"
  },
  {
   "metadata": {
    "ExecuteTime": {
     "end_time": "2025-05-11T03:44:50.397488Z",
     "start_time": "2025-05-11T03:44:50.383048Z"
    }
   },
   "cell_type": "code",
   "source": "x.shape",
   "id": "4e52965836ea7b5d",
   "outputs": [
    {
     "data": {
      "text/plain": [
       "torch.Size([12])"
      ]
     },
     "execution_count": 4,
     "metadata": {},
     "output_type": "execute_result"
    }
   ],
   "execution_count": 4
  },
  {
   "metadata": {},
   "cell_type": "markdown",
   "source": "元素数量：numel(), num of elements, 返回一个标量",
   "id": "2d24018199cff847"
  },
  {
   "metadata": {
    "ExecuteTime": {
     "end_time": "2025-05-11T03:44:58.409600Z",
     "start_time": "2025-05-11T03:44:58.382213Z"
    }
   },
   "cell_type": "code",
   "source": "x.numel()",
   "id": "6b021eb1a4bc5331",
   "outputs": [
    {
     "data": {
      "text/plain": [
       "12"
      ]
     },
     "execution_count": 5,
     "metadata": {},
     "output_type": "execute_result"
    }
   ],
   "execution_count": 5
  },
  {
   "metadata": {},
   "cell_type": "markdown",
   "source": "改变张量形状 reshape()",
   "id": "6a3419ecd6dd9a04"
  },
  {
   "metadata": {
    "ExecuteTime": {
     "end_time": "2025-05-11T03:46:30.693964Z",
     "start_time": "2025-05-11T03:46:30.673865Z"
    }
   },
   "cell_type": "code",
   "source": [
    "X = x.reshape(3, 4)\n",
    "X"
   ],
   "id": "86eceaf4dfa2b525",
   "outputs": [
    {
     "data": {
      "text/plain": [
       "tensor([[ 0,  1,  2,  3],\n",
       "        [ 4,  5,  6,  7],\n",
       "        [ 8,  9, 10, 11]])"
      ]
     },
     "execution_count": 7,
     "metadata": {},
     "output_type": "execute_result"
    }
   ],
   "execution_count": 7
  },
  {
   "metadata": {},
   "cell_type": "markdown",
   "source": "torch.zeros((形状))",
   "id": "cba16a5024f6a6b2"
  },
  {
   "metadata": {
    "ExecuteTime": {
     "end_time": "2025-05-11T03:48:03.827471Z",
     "start_time": "2025-05-11T03:48:03.815887Z"
    }
   },
   "cell_type": "code",
   "source": "torch.zeros((2,3,4))",
   "id": "5eb9d6585f0ca89b",
   "outputs": [
    {
     "data": {
      "text/plain": [
       "tensor([[[0., 0., 0., 0.],\n",
       "         [0., 0., 0., 0.],\n",
       "         [0., 0., 0., 0.]],\n",
       "\n",
       "        [[0., 0., 0., 0.],\n",
       "         [0., 0., 0., 0.],\n",
       "         [0., 0., 0., 0.]]])"
      ]
     },
     "execution_count": 10,
     "metadata": {},
     "output_type": "execute_result"
    }
   ],
   "execution_count": 10
  },
  {
   "metadata": {
    "ExecuteTime": {
     "end_time": "2025-05-11T03:48:11.455185Z",
     "start_time": "2025-05-11T03:48:11.441194Z"
    }
   },
   "cell_type": "code",
   "source": "torch.ones((2,3,4))",
   "id": "4763b330a4890d25",
   "outputs": [
    {
     "data": {
      "text/plain": [
       "tensor([[[1., 1., 1., 1.],\n",
       "         [1., 1., 1., 1.],\n",
       "         [1., 1., 1., 1.]],\n",
       "\n",
       "        [[1., 1., 1., 1.],\n",
       "         [1., 1., 1., 1.],\n",
       "         [1., 1., 1., 1.]]])"
      ]
     },
     "execution_count": 11,
     "metadata": {},
     "output_type": "execute_result"
    }
   ],
   "execution_count": 11
  },
  {
   "metadata": {
    "ExecuteTime": {
     "end_time": "2025-05-11T04:06:48.243595Z",
     "start_time": "2025-05-11T04:06:48.228656Z"
    }
   },
   "cell_type": "code",
   "source": "torch.tensor([[2, 1, 4, 3], [1, 2, 3, 4], [4, 3, 2, 1]])",
   "id": "568b897ccaf44a26",
   "outputs": [
    {
     "data": {
      "text/plain": [
       "tensor([[2, 1, 4, 3],\n",
       "        [1, 2, 3, 4],\n",
       "        [4, 3, 2, 1]])"
      ]
     },
     "execution_count": 15,
     "metadata": {},
     "output_type": "execute_result"
    }
   ],
   "execution_count": 15
  },
  {
   "metadata": {},
   "cell_type": "markdown",
   "source": [
    "运算：+, -, *, /, **\n",
    "这些运算都是按**元素**进行的"
   ],
   "id": "b79dc3092ae82376"
  },
  {
   "metadata": {
    "ExecuteTime": {
     "end_time": "2025-05-11T04:04:37.152150Z",
     "start_time": "2025-05-11T04:04:37.124791Z"
    }
   },
   "cell_type": "code",
   "source": [
    "x = torch.tensor([1.0, 2, 4, 8])\n",
    "y = torch.tensor([2, 2, 2, 2])\n",
    "x+y, x-y, x*y, x/y, x**y"
   ],
   "id": "61783434d2097e50",
   "outputs": [
    {
     "data": {
      "text/plain": [
       "(tensor([ 3.,  4.,  6., 10.]),\n",
       " tensor([-1.,  0.,  2.,  6.]),\n",
       " tensor([ 2.,  4.,  8., 16.]),\n",
       " tensor([0.5000, 1.0000, 2.0000, 4.0000]),\n",
       " tensor([ 1.,  4., 16., 64.]))"
      ]
     },
     "execution_count": 13,
     "metadata": {},
     "output_type": "execute_result"
    }
   ],
   "execution_count": 13
  },
  {
   "metadata": {},
   "cell_type": "markdown",
   "source": "按元素应用更多计算",
   "id": "5141eafe1b247e24"
  },
  {
   "metadata": {
    "ExecuteTime": {
     "end_time": "2025-05-11T04:05:18.422055Z",
     "start_time": "2025-05-11T04:05:18.386485Z"
    }
   },
   "cell_type": "code",
   "source": "torch.exp(x)",
   "id": "d3605e9f0e82f5da",
   "outputs": [
    {
     "data": {
      "text/plain": [
       "tensor([2.7183e+00, 7.3891e+00, 5.4598e+01, 2.9810e+03])"
      ]
     },
     "execution_count": 14,
     "metadata": {},
     "output_type": "execute_result"
    }
   ],
   "execution_count": 14
  },
  {
   "metadata": {},
   "cell_type": "markdown",
   "source": "张量拼接 torch.cat((), dim= )  dim=0按行往下拼接，dim=1按列向后拼接",
   "id": "d76cb3c5a7dc41d7"
  },
  {
   "metadata": {
    "ExecuteTime": {
     "end_time": "2025-05-11T04:08:03.373183Z",
     "start_time": "2025-05-11T04:08:03.344107Z"
    }
   },
   "cell_type": "code",
   "source": [
    "X = torch.arange(12, dtype=torch.float32).reshape((3, 4))\n",
    "Y = torch.tensor([[2.0, 1, 4, 3], [1, 2, 3, 4], [4, 3, 2, 1]])\n",
    "torch.cat((X, Y), dim=0), torch.cat((X, Y), dim=1)"
   ],
   "id": "aa63413cc80301fc",
   "outputs": [
    {
     "data": {
      "text/plain": [
       "(tensor([[ 0.,  1.,  2.,  3.],\n",
       "         [ 4.,  5.,  6.,  7.],\n",
       "         [ 8.,  9., 10., 11.],\n",
       "         [ 2.,  1.,  4.,  3.],\n",
       "         [ 1.,  2.,  3.,  4.],\n",
       "         [ 4.,  3.,  2.,  1.]]),\n",
       " tensor([[ 0.,  1.,  2.,  3.,  2.,  1.,  4.,  3.],\n",
       "         [ 4.,  5.,  6.,  7.,  1.,  2.,  3.,  4.],\n",
       "         [ 8.,  9., 10., 11.,  4.,  3.,  2.,  1.]]))"
      ]
     },
     "execution_count": 19,
     "metadata": {},
     "output_type": "execute_result"
    }
   ],
   "execution_count": 19
  },
  {
   "metadata": {},
   "cell_type": "markdown",
   "source": "通过逻辑运算法构建二维张量",
   "id": "274a28bbec02fb0a"
  },
  {
   "metadata": {
    "ExecuteTime": {
     "end_time": "2025-05-11T04:50:32.563516Z",
     "start_time": "2025-05-11T04:50:32.542361Z"
    }
   },
   "cell_type": "code",
   "source": "X==Y",
   "id": "3481ac5d6df450c",
   "outputs": [
    {
     "data": {
      "text/plain": [
       "tensor([[False,  True, False,  True],\n",
       "        [False, False, False, False],\n",
       "        [False, False, False, False]])"
      ]
     },
     "execution_count": 20,
     "metadata": {},
     "output_type": "execute_result"
    }
   ],
   "execution_count": 20
  },
  {
   "metadata": {},
   "cell_type": "markdown",
   "source": "对张量中所有元素求和",
   "id": "8385a7fcc802d30a"
  },
  {
   "metadata": {
    "ExecuteTime": {
     "end_time": "2025-05-11T04:51:16.546356Z",
     "start_time": "2025-05-11T04:51:16.532188Z"
    }
   },
   "cell_type": "code",
   "source": "X.sum()",
   "id": "ff282f9c3d621a1a",
   "outputs": [
    {
     "data": {
      "text/plain": [
       "tensor(66.)"
      ]
     },
     "execution_count": 21,
     "metadata": {},
     "output_type": "execute_result"
    }
   ],
   "execution_count": 21
  },
  {
   "metadata": {},
   "cell_type": "markdown",
   "source": "即使形状不同，仍然可以广播，容易出错！需要注意",
   "id": "83cc44e7d07a7385"
  },
  {
   "metadata": {
    "ExecuteTime": {
     "end_time": "2025-05-11T04:52:41.965933Z",
     "start_time": "2025-05-11T04:52:41.955409Z"
    }
   },
   "cell_type": "code",
   "source": [
    "a = torch.arange(3).reshape((3, 1))\n",
    "b = torch.arange(2).reshape((1, 2))\n",
    "a, b"
   ],
   "id": "29c81f2f886348d0",
   "outputs": [
    {
     "data": {
      "text/plain": [
       "(tensor([[0],\n",
       "         [1],\n",
       "         [2]]),\n",
       " tensor([[0, 1]]))"
      ]
     },
     "execution_count": 23,
     "metadata": {},
     "output_type": "execute_result"
    }
   ],
   "execution_count": 23
  },
  {
   "metadata": {
    "ExecuteTime": {
     "end_time": "2025-05-11T04:52:46.386708Z",
     "start_time": "2025-05-11T04:52:46.373699Z"
    }
   },
   "cell_type": "code",
   "source": "a+b",
   "id": "cd4f98ecadab4f4a",
   "outputs": [
    {
     "data": {
      "text/plain": [
       "tensor([[0, 1],\n",
       "        [1, 2],\n",
       "        [2, 3]])"
      ]
     },
     "execution_count": 24,
     "metadata": {},
     "output_type": "execute_result"
    }
   ],
   "execution_count": 24
  },
  {
   "metadata": {},
   "cell_type": "markdown",
   "source": "元素访问",
   "id": "c70fcdc081c2d1e6"
  },
  {
   "metadata": {
    "ExecuteTime": {
     "end_time": "2025-05-11T04:57:15.122215Z",
     "start_time": "2025-05-11T04:57:15.105439Z"
    }
   },
   "cell_type": "code",
   "source": "X, X[-1], X[1:3]",
   "id": "397c84bffef7c5f4",
   "outputs": [
    {
     "data": {
      "text/plain": [
       "(tensor([[ 0.,  1.,  2.,  3.],\n",
       "         [ 4.,  5.,  6.,  7.],\n",
       "         [ 8.,  9., 10., 11.]]),\n",
       " tensor([ 8.,  9., 10., 11.]),\n",
       " tensor([[ 4.,  5.,  6.,  7.],\n",
       "         [ 8.,  9., 10., 11.]]))"
      ]
     },
     "execution_count": 27,
     "metadata": {},
     "output_type": "execute_result"
    }
   ],
   "execution_count": 27
  },
  {
   "metadata": {},
   "cell_type": "markdown",
   "source": "赋值",
   "id": "3592e0ffb2e15f2c"
  },
  {
   "metadata": {
    "ExecuteTime": {
     "end_time": "2025-05-11T04:57:26.467159Z",
     "start_time": "2025-05-11T04:57:26.447996Z"
    }
   },
   "cell_type": "code",
   "source": [
    "X[1,2] = 9\n",
    "X"
   ],
   "id": "8b57b1a5c6ae632e",
   "outputs": [
    {
     "data": {
      "text/plain": [
       "tensor([[ 0.,  1.,  2.,  3.],\n",
       "        [ 4.,  5.,  9.,  7.],\n",
       "        [ 8.,  9., 10., 11.]])"
      ]
     },
     "execution_count": 30,
     "metadata": {},
     "output_type": "execute_result"
    }
   ],
   "execution_count": 30
  },
  {
   "metadata": {},
   "cell_type": "markdown",
   "source": "为多个元素赋相同的值",
   "id": "5c091775a787c73c"
  },
  {
   "metadata": {
    "ExecuteTime": {
     "end_time": "2025-05-11T04:58:24.818590Z",
     "start_time": "2025-05-11T04:58:24.801585Z"
    }
   },
   "cell_type": "code",
   "source": "X[0:2,:]",
   "id": "f5420508344f2a58",
   "outputs": [
    {
     "data": {
      "text/plain": [
       "tensor([[0., 1., 2., 3.],\n",
       "        [4., 5., 9., 7.]])"
      ]
     },
     "execution_count": 31,
     "metadata": {},
     "output_type": "execute_result"
    }
   ],
   "execution_count": 31
  },
  {
   "metadata": {
    "ExecuteTime": {
     "end_time": "2025-05-11T04:58:44.173034Z",
     "start_time": "2025-05-11T04:58:44.164014Z"
    }
   },
   "cell_type": "code",
   "source": [
    "X[0:2,:] = 12\n",
    "X"
   ],
   "id": "45b7c95bdb211bd0",
   "outputs": [
    {
     "data": {
      "text/plain": [
       "tensor([[12., 12., 12., 12.],\n",
       "        [12., 12., 12., 12.],\n",
       "        [ 8.,  9., 10., 11.]])"
      ]
     },
     "execution_count": 32,
     "metadata": {},
     "output_type": "execute_result"
    }
   ],
   "execution_count": 32
  },
  {
   "metadata": {
    "ExecuteTime": {
     "end_time": "2025-05-11T05:05:17.971850Z",
     "start_time": "2025-05-11T05:05:17.945986Z"
    }
   },
   "cell_type": "code",
   "source": [
    "before = id(Y) # id() 获取变量唯一的地址\n",
    "Y = Y+X  # Y += X 则是原地操作，结果是True，这个和Y[:] = Y+X 效果一样\n",
    " # 结果是False，这个新的Y和原来的Y地址是不同的，原来的已经析构掉了\n",
    "before, id(Y), id(Y) == before"
   ],
   "id": "af0de997426eccf2",
   "outputs": [
    {
     "data": {
      "text/plain": [
       "(2342815534992, 2342815534992, True)"
      ]
     },
     "execution_count": 40,
     "metadata": {},
     "output_type": "execute_result"
    }
   ],
   "execution_count": 40
  },
  {
   "metadata": {},
   "cell_type": "markdown",
   "source": "执行原地操作",
   "id": "60f9c81e48838637"
  },
  {
   "metadata": {
    "ExecuteTime": {
     "end_time": "2025-05-11T05:04:21.429417Z",
     "start_time": "2025-05-11T05:04:21.415065Z"
    }
   },
   "cell_type": "code",
   "source": [
    "Z = torch.zeros_like(Y) # zeros_like() 创建一个和Y的shape，数据类型一样的都是1的张量\n",
    "print('id(Z)', id(Z))\n",
    "Z[:] = X+Y # 通过 [:] 逐元素赋值\n",
    "print('id(Z)', id(Z))"
   ],
   "id": "76e99fb78cb7b321",
   "outputs": [
    {
     "name": "stdout",
     "output_type": "stream",
     "text": [
      "id(Z) 2342815534832\n",
      "id(Z) 2342815534832\n"
     ]
    }
   ],
   "execution_count": 39
  },
  {
   "metadata": {
    "ExecuteTime": {
     "end_time": "2025-05-11T05:06:59.801922Z",
     "start_time": "2025-05-11T05:06:59.789563Z"
    }
   },
   "cell_type": "code",
   "source": [
    "before = id(X)\n",
    "X += Y\n",
    "id(X) == before # 结果是True，X[:] = X+Y 或X += Y都是原地操作"
   ],
   "id": "bff1965d00c5ad33",
   "outputs": [
    {
     "data": {
      "text/plain": [
       "True"
      ]
     },
     "execution_count": 41,
     "metadata": {},
     "output_type": "execute_result"
    }
   ],
   "execution_count": 41
  },
  {
   "metadata": {},
   "cell_type": "markdown",
   "source": "转换为Numpy张量",
   "id": "4977505fea1c3248"
  },
  {
   "metadata": {
    "ExecuteTime": {
     "end_time": "2025-05-11T06:23:37.631045Z",
     "start_time": "2025-05-11T06:23:37.606133Z"
    }
   },
   "cell_type": "code",
   "source": [
    "A = X.numpy()\n",
    "\n",
    "B = torch.tensor(A)\n",
    "A, type(A), B, type(B)"
   ],
   "id": "67246bef89cac930",
   "outputs": [
    {
     "data": {
      "text/plain": [
       "(array([[62., 61., 64., 63.],\n",
       "        [61., 62., 63., 64.],\n",
       "        [44., 48., 52., 56.]], dtype=float32),\n",
       " numpy.ndarray,\n",
       " tensor([[62., 61., 64., 63.],\n",
       "         [61., 62., 63., 64.],\n",
       "         [44., 48., 52., 56.]]),\n",
       " torch.Tensor)"
      ]
     },
     "execution_count": 84,
     "metadata": {},
     "output_type": "execute_result"
    }
   ],
   "execution_count": 84
  },
  {
   "metadata": {},
   "cell_type": "markdown",
   "source": "将大小为1的张量转换为python 标量",
   "id": "1db708fe5d78aee4"
  },
  {
   "metadata": {
    "ExecuteTime": {
     "end_time": "2025-05-11T05:10:11.631347Z",
     "start_time": "2025-05-11T05:10:11.617395Z"
    }
   },
   "cell_type": "code",
   "source": [
    "a = torch.tensor([3.5])\n",
    "a, a.item(), float(a), int(a)"
   ],
   "id": "4f56de05d36bde04",
   "outputs": [
    {
     "data": {
      "text/plain": [
       "(tensor([3.5000]), 3.5, 3.5, 3)"
      ]
     },
     "execution_count": 43,
     "metadata": {},
     "output_type": "execute_result"
    }
   ],
   "execution_count": 43
  },
  {
   "metadata": {},
   "cell_type": "markdown",
   "source": [
    "# 数据预处理\n",
    "\n",
    "处理csv文件"
   ],
   "id": "d8a7fb66cce6945a"
  },
  {
   "metadata": {
    "ExecuteTime": {
     "end_time": "2025-05-11T05:20:37.492918Z",
     "start_time": "2025-05-11T05:20:37.471238Z"
    }
   },
   "cell_type": "code",
   "source": [
    "import os\n",
    "os.makedirs(os.path.join('.', 'data'), exist_ok=True)\n",
    "data_file = os.path.join('.', 'data', 'house_tiny.csv')\n",
    "with open(data_file, 'w') as f:\n",
    "    f.write('NumRooms,Alley,Price\\n') # 列名\n",
    "    f.write(f'NA,Pave,127500\\n')\n",
    "    f.write(f'2,NA,106000\\n')\n",
    "    f.write(f'4,NA,178100\\n')\n",
    "    f.write(f'NA,NA,140000\\n')\n",
    "print(data_file)"
   ],
   "id": "f0140bf9e7056773",
   "outputs": [
    {
     "name": "stdout",
     "output_type": "stream",
     "text": [
      ".\\data\\house_tiny.csv\n"
     ]
    }
   ],
   "execution_count": 50
  },
  {
   "metadata": {
    "ExecuteTime": {
     "end_time": "2025-05-11T05:21:53.976701Z",
     "start_time": "2025-05-11T05:21:50.018336Z"
    }
   },
   "cell_type": "code",
   "source": [
    "import pandas as pd\n",
    "\n",
    "data = pd.read_csv(data_file)\n",
    "print(data)"
   ],
   "id": "d9df1be5f78ef145",
   "outputs": [
    {
     "name": "stdout",
     "output_type": "stream",
     "text": [
      "   NumRooms Alley   Price\n",
      "0       NaN  Pave  127500\n",
      "1       2.0   NaN  106000\n",
      "2       4.0   NaN  178100\n",
      "3       NaN   NaN  140000\n"
     ]
    }
   ],
   "execution_count": 53
  },
  {
   "metadata": {},
   "cell_type": "markdown",
   "source": "为了处理缺失数据，典型方法包括：插值、删除，这里我们考虑插值",
   "id": "4704056762b9c5e0"
  },
  {
   "metadata": {
    "ExecuteTime": {
     "end_time": "2025-05-11T06:03:31.284003Z",
     "start_time": "2025-05-11T06:03:31.259621Z"
    }
   },
   "cell_type": "code",
   "source": [
    "# iloc:index location\n",
    "inputs, outputs = data.iloc[:, 0:2], data.iloc[:, 2]\n",
    "print(inputs)\n",
    "print(outputs)\n",
    "inputs = inputs.fillna(inputs.mean(numeric_only=True)) # 计算mean时numeric_only忽略非数值\n",
    "# 将平均数填充到NAN中\n",
    "print(inputs)"
   ],
   "id": "70fee5d14a1baac6",
   "outputs": [
    {
     "name": "stdout",
     "output_type": "stream",
     "text": [
      "   NumRooms Alley\n",
      "0       NaN  Pave\n",
      "1       2.0   NaN\n",
      "2       4.0   NaN\n",
      "3       NaN   NaN\n",
      "0    127500\n",
      "1    106000\n",
      "2    178100\n",
      "3    140000\n",
      "Name: Price, dtype: int64\n",
      "   NumRooms Alley\n",
      "0       3.0  Pave\n",
      "1       2.0   NaN\n",
      "2       4.0   NaN\n",
      "3       3.0   NaN\n"
     ]
    }
   ],
   "execution_count": 70
  },
  {
   "metadata": {},
   "cell_type": "markdown",
   "source": "对于非数值，缺失的可以当做一个类别",
   "id": "7bfadd848f6db037"
  },
  {
   "metadata": {
    "ExecuteTime": {
     "end_time": "2025-05-11T06:03:21.658564Z",
     "start_time": "2025-05-11T06:03:21.641565Z"
    }
   },
   "cell_type": "code",
   "source": "print(pd.get_dummies(inputs))",
   "id": "52503f898fc93738",
   "outputs": [
    {
     "name": "stdout",
     "output_type": "stream",
     "text": [
      "   NumRooms  Alley_Pave\n",
      "0       3.0        True\n",
      "1       2.0       False\n",
      "2       4.0       False\n",
      "3       3.0       False\n"
     ]
    }
   ],
   "execution_count": 68
  },
  {
   "metadata": {
    "ExecuteTime": {
     "end_time": "2025-05-11T06:21:08.714722Z",
     "start_time": "2025-05-11T06:21:08.700623Z"
    }
   },
   "cell_type": "code",
   "source": [
    "# dummy_na=True表示将nan也当做一个类\n",
    "inputs = pd.get_dummies(inputs, dummy_na=True) \n",
    "print(inputs)\n",
    "print(inputs.values)\n",
    "type(inputs), type(inputs.values)"
   ],
   "id": "f8dfd67ba423313b",
   "outputs": [
    {
     "name": "stdout",
     "output_type": "stream",
     "text": [
      "   NumRooms  Alley_Pave  Alley_nan\n",
      "0       3.0        True      False\n",
      "1       2.0       False       True\n",
      "2       4.0       False       True\n",
      "3       3.0       False       True\n",
      "[[3.0 True False]\n",
      " [2.0 False True]\n",
      " [4.0 False True]\n",
      " [3.0 False True]]\n"
     ]
    },
    {
     "data": {
      "text/plain": [
       "(pandas.core.frame.DataFrame, numpy.ndarray)"
      ]
     },
     "execution_count": 77,
     "metadata": {},
     "output_type": "execute_result"
    }
   ],
   "execution_count": 77
  },
  {
   "metadata": {},
   "cell_type": "markdown",
   "source": "现在将所有的条目都变成了数值类型，可以转换为张量格式了",
   "id": "68a9304a1342c7f5"
  },
  {
   "metadata": {
    "ExecuteTime": {
     "end_time": "2025-05-11T06:30:04.599568Z",
     "start_time": "2025-05-11T06:30:04.582501Z"
    }
   },
   "cell_type": "code",
   "source": [
    "import torch\n",
    "import numpy as np\n",
    "# 64位浮点数计算比较慢，所以一般用float32\n",
    "X, y= torch.tensor(inputs.to_numpy(dtype=np.float32)), torch.tensor(outputs.to_numpy(dtype=np.float32))\n",
    "X, y"
   ],
   "id": "1b228a17c770c8d8",
   "outputs": [
    {
     "data": {
      "text/plain": [
       "(tensor([[3., 1., 0.],\n",
       "         [2., 0., 1.],\n",
       "         [4., 0., 1.],\n",
       "         [3., 0., 1.]]),\n",
       " tensor([127500., 106000., 178100., 140000.]))"
      ]
     },
     "execution_count": 88,
     "metadata": {},
     "output_type": "execute_result"
    }
   ],
   "execution_count": 88
  },
  {
   "metadata": {},
   "cell_type": "code",
   "outputs": [],
   "execution_count": null,
   "source": "",
   "id": "67c6f9006d0591b0"
  }
 ],
 "metadata": {
  "kernelspec": {
   "display_name": "Python 3",
   "language": "python",
   "name": "python3"
  },
  "language_info": {
   "codemirror_mode": {
    "name": "ipython",
    "version": 2
   },
   "file_extension": ".py",
   "mimetype": "text/x-python",
   "name": "python",
   "nbconvert_exporter": "python",
   "pygments_lexer": "ipython2",
   "version": "2.7.6"
  }
 },
 "nbformat": 4,
 "nbformat_minor": 5
}
