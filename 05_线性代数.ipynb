{
 "cells": [
  {
   "cell_type": "code",
   "id": "initial_id",
   "metadata": {
    "collapsed": true,
    "ExecuteTime": {
     "end_time": "2025-05-12T03:37:00.631920Z",
     "start_time": "2025-05-12T03:36:53.899452Z"
    }
   },
   "source": [
    "import torch\n",
    "\n",
    "x = torch.tensor([3.0])\n",
    "y = torch.tensor([2.0])\n",
    "\n",
    "x+y, x*y, x/y, x**y"
   ],
   "outputs": [
    {
     "data": {
      "text/plain": [
       "(tensor([5.]), tensor([6.]), tensor([1.5000]), tensor([9.]))"
      ]
     },
     "execution_count": 1,
     "metadata": {},
     "output_type": "execute_result"
    }
   ],
   "execution_count": 1
  },
  {
   "metadata": {},
   "cell_type": "markdown",
   "source": "向量",
   "id": "4ebc197fc002c297"
  },
  {
   "metadata": {
    "ExecuteTime": {
     "end_time": "2025-05-12T03:37:34.388344Z",
     "start_time": "2025-05-12T03:37:34.379787Z"
    }
   },
   "cell_type": "code",
   "source": [
    "x = torch.arange(4)\n",
    "x, x[3]"
   ],
   "id": "aff0e6c54a4d4141",
   "outputs": [
    {
     "data": {
      "text/plain": [
       "(tensor([0, 1, 2, 3]), tensor(3))"
      ]
     },
     "execution_count": 5,
     "metadata": {},
     "output_type": "execute_result"
    }
   ],
   "execution_count": 5
  },
  {
   "metadata": {
    "ExecuteTime": {
     "end_time": "2025-05-12T03:37:39.644731Z",
     "start_time": "2025-05-12T03:37:39.625507Z"
    }
   },
   "cell_type": "code",
   "source": "len(x)",
   "id": "b361900cf5ad193a",
   "outputs": [
    {
     "data": {
      "text/plain": [
       "4"
      ]
     },
     "execution_count": 6,
     "metadata": {},
     "output_type": "execute_result"
    }
   ],
   "execution_count": 6
  },
  {
   "metadata": {
    "ExecuteTime": {
     "end_time": "2025-05-12T03:46:35.426848Z",
     "start_time": "2025-05-12T03:46:35.408670Z"
    }
   },
   "cell_type": "code",
   "source": "x.shape",
   "id": "c7225de5d4929f7b",
   "outputs": [
    {
     "data": {
      "text/plain": [
       "torch.Size([4])"
      ]
     },
     "execution_count": 8,
     "metadata": {},
     "output_type": "execute_result"
    }
   ],
   "execution_count": 8
  },
  {
   "metadata": {},
   "cell_type": "markdown",
   "source": "矩阵",
   "id": "158d104eeb494740"
  },
  {
   "metadata": {
    "ExecuteTime": {
     "end_time": "2025-05-12T03:47:19.627647Z",
     "start_time": "2025-05-12T03:47:19.615567Z"
    }
   },
   "cell_type": "code",
   "source": [
    "A = torch.arange(20).reshape(5,4)\n",
    "A"
   ],
   "id": "ef5c7c9bca633d0d",
   "outputs": [
    {
     "data": {
      "text/plain": [
       "tensor([[ 0,  1,  2,  3],\n",
       "        [ 4,  5,  6,  7],\n",
       "        [ 8,  9, 10, 11],\n",
       "        [12, 13, 14, 15],\n",
       "        [16, 17, 18, 19]])"
      ]
     },
     "execution_count": 9,
     "metadata": {},
     "output_type": "execute_result"
    }
   ],
   "execution_count": 9
  },
  {
   "metadata": {
    "ExecuteTime": {
     "end_time": "2025-05-12T03:47:24.113231Z",
     "start_time": "2025-05-12T03:47:24.082970Z"
    }
   },
   "cell_type": "code",
   "source": "A.T # 转置",
   "id": "68f58ecae19b33b5",
   "outputs": [
    {
     "data": {
      "text/plain": [
       "tensor([[ 0,  4,  8, 12, 16],\n",
       "        [ 1,  5,  9, 13, 17],\n",
       "        [ 2,  6, 10, 14, 18],\n",
       "        [ 3,  7, 11, 15, 19]])"
      ]
     },
     "execution_count": 10,
     "metadata": {},
     "output_type": "execute_result"
    }
   ],
   "execution_count": 10
  },
  {
   "metadata": {
    "ExecuteTime": {
     "end_time": "2025-05-12T03:48:49.333753Z",
     "start_time": "2025-05-12T03:48:49.323310Z"
    }
   },
   "cell_type": "code",
   "source": [
    "B = torch.tensor([[1, 2, 3], [2, 0, 4], [3, 4, 5]])\n",
    "B"
   ],
   "id": "a5f40a95b68d536d",
   "outputs": [
    {
     "data": {
      "text/plain": [
       "tensor([[1, 2, 3],\n",
       "        [2, 0, 4],\n",
       "        [3, 4, 5]])"
      ]
     },
     "execution_count": 12,
     "metadata": {},
     "output_type": "execute_result"
    }
   ],
   "execution_count": 12
  },
  {
   "metadata": {
    "ExecuteTime": {
     "end_time": "2025-05-12T03:48:58.618828Z",
     "start_time": "2025-05-12T03:48:58.605051Z"
    }
   },
   "cell_type": "code",
   "source": "B ==B.T",
   "id": "b394c976c1cf3a8c",
   "outputs": [
    {
     "data": {
      "text/plain": [
       "tensor([[True, True, True],\n",
       "        [True, True, True],\n",
       "        [True, True, True]])"
      ]
     },
     "execution_count": 13,
     "metadata": {},
     "output_type": "execute_result"
    }
   ],
   "execution_count": 13
  },
  {
   "metadata": {},
   "cell_type": "markdown",
   "source": "向量是标量的推广，矩阵是向量的推广，我们可以构建更多轴（维度）的数据结构",
   "id": "26fec519238226d5"
  },
  {
   "metadata": {
    "ExecuteTime": {
     "end_time": "2025-05-12T03:50:51.282759Z",
     "start_time": "2025-05-12T03:50:51.263285Z"
    }
   },
   "cell_type": "code",
   "source": [
    "X = torch.arange(24).reshape(2,3,4)\n",
    "X"
   ],
   "id": "ed0da266c5a201b",
   "outputs": [
    {
     "data": {
      "text/plain": [
       "tensor([[[ 0,  1,  2,  3],\n",
       "         [ 4,  5,  6,  7],\n",
       "         [ 8,  9, 10, 11]],\n",
       "\n",
       "        [[12, 13, 14, 15],\n",
       "         [16, 17, 18, 19],\n",
       "         [20, 21, 22, 23]]])"
      ]
     },
     "execution_count": 14,
     "metadata": {},
     "output_type": "execute_result"
    }
   ],
   "execution_count": 14
  },
  {
   "metadata": {
    "ExecuteTime": {
     "end_time": "2025-05-12T04:04:42.192652Z",
     "start_time": "2025-05-12T04:04:42.179520Z"
    }
   },
   "cell_type": "code",
   "source": [
    "A = torch.arange(20, dtype=torch.float32).reshape(5,4)\n",
    "B = A.clone()  # 深拷贝，分配新的内存\n",
    "B[0,0] = 2\n",
    "A, A+B, A"
   ],
   "id": "3666c4323bd2370a",
   "outputs": [
    {
     "data": {
      "text/plain": [
       "(tensor([[ 0.,  1.,  2.,  3.],\n",
       "         [ 4.,  5.,  6.,  7.],\n",
       "         [ 8.,  9., 10., 11.],\n",
       "         [12., 13., 14., 15.],\n",
       "         [16., 17., 18., 19.]]),\n",
       " tensor([[ 2.,  2.,  4.,  6.],\n",
       "         [ 8., 10., 12., 14.],\n",
       "         [16., 18., 20., 22.],\n",
       "         [24., 26., 28., 30.],\n",
       "         [32., 34., 36., 38.]]),\n",
       " tensor([[ 0.,  1.,  2.,  3.],\n",
       "         [ 4.,  5.,  6.,  7.],\n",
       "         [ 8.,  9., 10., 11.],\n",
       "         [12., 13., 14., 15.],\n",
       "         [16., 17., 18., 19.]]))"
      ]
     },
     "execution_count": 17,
     "metadata": {},
     "output_type": "execute_result"
    }
   ],
   "execution_count": 17
  },
  {
   "metadata": {},
   "cell_type": "markdown",
   "source": "矩阵按元素乘法 哈达玛积(Hadamard product) 符号： ⊙",
   "id": "310b151dac361f01"
  },
  {
   "metadata": {
    "ExecuteTime": {
     "end_time": "2025-05-12T04:06:24.487175Z",
     "start_time": "2025-05-12T04:06:24.474146Z"
    }
   },
   "cell_type": "code",
   "source": [
    "B[0,0] = 0\n",
    "A*B  # "
   ],
   "id": "7efc872b08afc5b0",
   "outputs": [
    {
     "data": {
      "text/plain": [
       "tensor([[  0.,   1.,   4.,   9.],\n",
       "        [ 16.,  25.,  36.,  49.],\n",
       "        [ 64.,  81., 100., 121.],\n",
       "        [144., 169., 196., 225.],\n",
       "        [256., 289., 324., 361.]])"
      ]
     },
     "execution_count": 18,
     "metadata": {},
     "output_type": "execute_result"
    }
   ],
   "execution_count": 18
  },
  {
   "metadata": {
    "ExecuteTime": {
     "end_time": "2025-05-12T04:18:49.018805Z",
     "start_time": "2025-05-12T04:18:49.007030Z"
    }
   },
   "cell_type": "code",
   "source": "A@B # 矩阵乘法",
   "id": "eaaa24dcb132ce82",
   "outputs": [
    {
     "data": {
      "text/plain": [
       "torch.Size([2, 5, 4])"
      ]
     },
     "execution_count": 24,
     "metadata": {},
     "output_type": "execute_result"
    }
   ],
   "execution_count": 24
  },
  {
   "metadata": {
    "ExecuteTime": {
     "end_time": "2025-05-12T04:15:33.051675Z",
     "start_time": "2025-05-12T04:15:33.038912Z"
    }
   },
   "cell_type": "code",
   "source": [
    "a = 2\n",
    "X = torch.arange(24).reshape(2,3,4)\n",
    "X, a+X, (a*X).shape # 对所有元素都加a，对所有元素都乘a"
   ],
   "id": "de83df9619accd0",
   "outputs": [
    {
     "data": {
      "text/plain": [
       "(tensor([[[ 0,  1,  2,  3],\n",
       "          [ 4,  5,  6,  7],\n",
       "          [ 8,  9, 10, 11]],\n",
       " \n",
       "         [[12, 13, 14, 15],\n",
       "          [16, 17, 18, 19],\n",
       "          [20, 21, 22, 23]]]),\n",
       " tensor([[[ 2,  3,  4,  5],\n",
       "          [ 6,  7,  8,  9],\n",
       "          [10, 11, 12, 13]],\n",
       " \n",
       "         [[14, 15, 16, 17],\n",
       "          [18, 19, 20, 21],\n",
       "          [22, 23, 24, 25]]]),\n",
       " torch.Size([2, 3, 4]))"
      ]
     },
     "execution_count": 20,
     "metadata": {},
     "output_type": "execute_result"
    }
   ],
   "execution_count": 20
  },
  {
   "metadata": {
    "ExecuteTime": {
     "end_time": "2025-05-12T04:16:38.887784Z",
     "start_time": "2025-05-12T04:16:38.879247Z"
    }
   },
   "cell_type": "code",
   "source": [
    "x = torch.arange(4, dtype=torch.float32)\n",
    "x, x.sum()"
   ],
   "id": "c2a8e22cf67640f3",
   "outputs": [
    {
     "data": {
      "text/plain": [
       "(tensor([0., 1., 2., 3.]), tensor(6.))"
      ]
     },
     "execution_count": 21,
     "metadata": {},
     "output_type": "execute_result"
    }
   ],
   "execution_count": 21
  },
  {
   "metadata": {
    "ExecuteTime": {
     "end_time": "2025-05-12T04:24:35.775151Z",
     "start_time": "2025-05-12T04:24:35.769127Z"
    }
   },
   "cell_type": "code",
   "source": [
    "A = torch.arange(20*2, dtype=torch.float32).reshape(2, 5, 4)\n",
    "A.shape, A.sum()"
   ],
   "id": "35d57dde0b9fe2bf",
   "outputs": [
    {
     "data": {
      "text/plain": [
       "(torch.Size([2, 5, 4]), tensor(780.))"
      ]
     },
     "execution_count": 33,
     "metadata": {},
     "output_type": "execute_result"
    }
   ],
   "execution_count": 33
  },
  {
   "metadata": {},
   "cell_type": "markdown",
   "source": "按某一维度求和",
   "id": "27669a23f323a804"
  },
  {
   "metadata": {
    "ExecuteTime": {
     "end_time": "2025-05-12T04:24:37.423648Z",
     "start_time": "2025-05-12T04:24:37.400048Z"
    }
   },
   "cell_type": "code",
   "source": [
    "A_sum_axis0 = A.sum(axis=0)\n",
    "A_sum_axis0, A_sum_axis0.shape"
   ],
   "id": "255ee012d623167e",
   "outputs": [
    {
     "data": {
      "text/plain": [
       "(tensor([[20., 22., 24., 26.],\n",
       "         [28., 30., 32., 34.],\n",
       "         [36., 38., 40., 42.],\n",
       "         [44., 46., 48., 50.],\n",
       "         [52., 54., 56., 58.]]),\n",
       " torch.Size([5, 4]))"
      ]
     },
     "execution_count": 34,
     "metadata": {},
     "output_type": "execute_result"
    }
   ],
   "execution_count": 34
  },
  {
   "metadata": {
    "ExecuteTime": {
     "end_time": "2025-05-12T04:24:38.265983Z",
     "start_time": "2025-05-12T04:24:38.251264Z"
    }
   },
   "cell_type": "code",
   "source": [
    "A_sum_axis1 = A.sum(axis=1)\n",
    "A_sum_axis1, A_sum_axis1.shape"
   ],
   "id": "e5422cb7228f0667",
   "outputs": [
    {
     "data": {
      "text/plain": [
       "(tensor([[ 40.,  45.,  50.,  55.],\n",
       "         [140., 145., 150., 155.]]),\n",
       " torch.Size([2, 4]))"
      ]
     },
     "execution_count": 35,
     "metadata": {},
     "output_type": "execute_result"
    }
   ],
   "execution_count": 35
  },
  {
   "metadata": {
    "ExecuteTime": {
     "end_time": "2025-05-12T04:24:38.843732Z",
     "start_time": "2025-05-12T04:24:38.831739Z"
    }
   },
   "cell_type": "code",
   "source": "A.sum(axis=[0, 1]), A.sum(axis=[0, 1]).shape",
   "id": "c027cb09a62c809b",
   "outputs": [
    {
     "data": {
      "text/plain": [
       "(tensor([180., 190., 200., 210.]), torch.Size([4]))"
      ]
     },
     "execution_count": 36,
     "metadata": {},
     "output_type": "execute_result"
    }
   ],
   "execution_count": 36
  },
  {
   "metadata": {},
   "cell_type": "markdown",
   "source": "相关计算",
   "id": "919600948a48df80"
  },
  {
   "metadata": {
    "ExecuteTime": {
     "end_time": "2025-05-12T04:25:13.966185Z",
     "start_time": "2025-05-12T04:25:13.952179Z"
    }
   },
   "cell_type": "code",
   "source": "A.mean(), A.sum() / A.numel(), A.numel()# A.numel()A一共多少个元素",
   "id": "389c4f304fcb82eb",
   "outputs": [
    {
     "data": {
      "text/plain": [
       "(tensor(19.5000), tensor(19.5000), 40, 2)"
      ]
     },
     "execution_count": 40,
     "metadata": {},
     "output_type": "execute_result"
    }
   ],
   "execution_count": 40
  },
  {
   "metadata": {
    "ExecuteTime": {
     "end_time": "2025-05-12T04:26:02.906258Z",
     "start_time": "2025-05-12T04:26:02.888164Z"
    }
   },
   "cell_type": "code",
   "source": "A.mean(axis=0), A.sum(axis=0) / A.shape[0]",
   "id": "9ab87abb87e89b36",
   "outputs": [
    {
     "data": {
      "text/plain": [
       "(tensor([[10., 11., 12., 13.],\n",
       "         [14., 15., 16., 17.],\n",
       "         [18., 19., 20., 21.],\n",
       "         [22., 23., 24., 25.],\n",
       "         [26., 27., 28., 29.]]),\n",
       " tensor([[10., 11., 12., 13.],\n",
       "         [14., 15., 16., 17.],\n",
       "         [18., 19., 20., 21.],\n",
       "         [22., 23., 24., 25.],\n",
       "         [26., 27., 28., 29.]]))"
      ]
     },
     "execution_count": 41,
     "metadata": {},
     "output_type": "execute_result"
    }
   ],
   "execution_count": 41
  },
  {
   "metadata": {},
   "cell_type": "markdown",
   "source": "如果希望求和或均值时，维度不变，避免计算sum，mean()直接丢掉计算的维度",
   "id": "94968332e7704aaa"
  },
  {
   "metadata": {
    "ExecuteTime": {
     "end_time": "2025-05-12T04:29:06.847277Z",
     "start_time": "2025-05-12T04:29:06.833402Z"
    }
   },
   "cell_type": "code",
   "source": [
    "sum_A = A.sum(axis=1, keepdim=True)\n",
    "sum_A, sum_A.shape, A.sum(axis=1), A.sum(axis=1).shape"
   ],
   "id": "dc038ad1d1fc59f7",
   "outputs": [
    {
     "data": {
      "text/plain": [
       "(tensor([[[ 40.,  45.,  50.,  55.]],\n",
       " \n",
       "         [[140., 145., 150., 155.]]]),\n",
       " torch.Size([2, 1, 4]),\n",
       " tensor([[ 40.,  45.,  50.,  55.],\n",
       "         [140., 145., 150., 155.]]),\n",
       " torch.Size([2, 4]))"
      ]
     },
     "execution_count": 47,
     "metadata": {},
     "output_type": "execute_result"
    }
   ],
   "execution_count": 47
  },
  {
   "metadata": {},
   "cell_type": "markdown",
   "source": "通过广播将A除以sum_A, A和sum_A维度必须一样",
   "id": "e06e5ce546bbf44f"
  },
  {
   "metadata": {
    "ExecuteTime": {
     "end_time": "2025-05-12T04:30:18.800405Z",
     "start_time": "2025-05-12T04:30:18.788206Z"
    }
   },
   "cell_type": "code",
   "source": "A, A/sum_A",
   "id": "f9fcf8098a52526a",
   "outputs": [
    {
     "data": {
      "text/plain": [
       "(tensor([[[ 0.,  1.,  2.,  3.],\n",
       "          [ 4.,  5.,  6.,  7.],\n",
       "          [ 8.,  9., 10., 11.],\n",
       "          [12., 13., 14., 15.],\n",
       "          [16., 17., 18., 19.]],\n",
       " \n",
       "         [[20., 21., 22., 23.],\n",
       "          [24., 25., 26., 27.],\n",
       "          [28., 29., 30., 31.],\n",
       "          [32., 33., 34., 35.],\n",
       "          [36., 37., 38., 39.]]]),\n",
       " tensor([[[0.0000, 0.0222, 0.0400, 0.0545],\n",
       "          [0.1000, 0.1111, 0.1200, 0.1273],\n",
       "          [0.2000, 0.2000, 0.2000, 0.2000],\n",
       "          [0.3000, 0.2889, 0.2800, 0.2727],\n",
       "          [0.4000, 0.3778, 0.3600, 0.3455]],\n",
       " \n",
       "         [[0.1429, 0.1448, 0.1467, 0.1484],\n",
       "          [0.1714, 0.1724, 0.1733, 0.1742],\n",
       "          [0.2000, 0.2000, 0.2000, 0.2000],\n",
       "          [0.2286, 0.2276, 0.2267, 0.2258],\n",
       "          [0.2571, 0.2552, 0.2533, 0.2516]]]))"
      ]
     },
     "execution_count": 50,
     "metadata": {},
     "output_type": "execute_result"
    }
   ],
   "execution_count": 50
  },
  {
   "metadata": {},
   "cell_type": "markdown",
   "source": "某个轴计算A元素的累加求和",
   "id": "44bc6f3a99743f76"
  },
  {
   "metadata": {
    "ExecuteTime": {
     "end_time": "2025-05-12T04:46:26.103465Z",
     "start_time": "2025-05-12T04:46:26.088221Z"
    }
   },
   "cell_type": "code",
   "source": "(A, A.cumsum(axis=0)) # 按第0个维度累加",
   "id": "12ad64906efcd944",
   "outputs": [
    {
     "data": {
      "text/plain": [
       "(tensor([[[ 0.,  1.,  2.,  3.],\n",
       "          [ 4.,  5.,  6.,  7.],\n",
       "          [ 8.,  9., 10., 11.],\n",
       "          [12., 13., 14., 15.],\n",
       "          [16., 17., 18., 19.]],\n",
       " \n",
       "         [[20., 21., 22., 23.],\n",
       "          [24., 25., 26., 27.],\n",
       "          [28., 29., 30., 31.],\n",
       "          [32., 33., 34., 35.],\n",
       "          [36., 37., 38., 39.]]]),\n",
       " tensor([[[ 0.,  1.,  2.,  3.],\n",
       "          [ 4.,  5.,  6.,  7.],\n",
       "          [ 8.,  9., 10., 11.],\n",
       "          [12., 13., 14., 15.],\n",
       "          [16., 17., 18., 19.]],\n",
       " \n",
       "         [[20., 22., 24., 26.],\n",
       "          [28., 30., 32., 34.],\n",
       "          [36., 38., 40., 42.],\n",
       "          [44., 46., 48., 50.],\n",
       "          [52., 54., 56., 58.]]]))"
      ]
     },
     "execution_count": 53,
     "metadata": {},
     "output_type": "execute_result"
    }
   ],
   "execution_count": 53
  },
  {
   "metadata": {},
   "cell_type": "markdown",
   "source": "向量点积",
   "id": "8b4f5d1cf9c04355"
  },
  {
   "metadata": {
    "ExecuteTime": {
     "end_time": "2025-05-12T04:48:20.264335Z",
     "start_time": "2025-05-12T04:48:20.254093Z"
    }
   },
   "cell_type": "code",
   "source": [
    "y = torch.ones(4, dtype=torch.float32)\n",
    "x, y, torch.dot(x, y)"
   ],
   "id": "d70cfffd732f3c79",
   "outputs": [
    {
     "data": {
      "text/plain": [
       "(tensor([0., 1., 2., 3.]), tensor([1., 1., 1., 1.]), tensor(6.))"
      ]
     },
     "execution_count": 56,
     "metadata": {},
     "output_type": "execute_result"
    }
   ],
   "execution_count": 56
  },
  {
   "metadata": {},
   "cell_type": "markdown",
   "source": "等价于按元素乘法，再求和",
   "id": "e76277eaa54bf991"
  },
  {
   "metadata": {
    "ExecuteTime": {
     "end_time": "2025-05-12T04:49:41.560439Z",
     "start_time": "2025-05-12T04:49:41.546484Z"
    }
   },
   "cell_type": "code",
   "source": "torch.sum(x * y)",
   "id": "a904ef284fb0189c",
   "outputs": [
    {
     "data": {
      "text/plain": [
       "tensor(6.)"
      ]
     },
     "execution_count": 61,
     "metadata": {},
     "output_type": "execute_result"
    }
   ],
   "execution_count": 61
  },
  {
   "metadata": {},
   "cell_type": "markdown",
   "source": "矩阵乘向量 Ax, 相当于a的第i行与x点积",
   "id": "9b6577ddd80a157b"
  },
  {
   "metadata": {
    "ExecuteTime": {
     "end_time": "2025-05-12T04:51:12.794647Z",
     "start_time": "2025-05-12T04:51:12.772591Z"
    }
   },
   "cell_type": "code",
   "source": [
    "A = torch.arange(20, dtype=torch.float32).reshape(5,4)\n",
    "A.shape, x.shape, torch.mv(A,x), A@x"
   ],
   "id": "fb7135e625c752c3",
   "outputs": [
    {
     "data": {
      "text/plain": [
       "(torch.Size([5, 4]),\n",
       " torch.Size([4]),\n",
       " tensor([ 14.,  38.,  62.,  86., 110.]),\n",
       " tensor([ 14.,  38.,  62.,  86., 110.]))"
      ]
     },
     "execution_count": 62,
     "metadata": {},
     "output_type": "execute_result"
    }
   ],
   "execution_count": 62
  },
  {
   "metadata": {},
   "cell_type": "markdown",
   "source": "矩阵乘法",
   "id": "e7374a42e0065109"
  },
  {
   "metadata": {
    "ExecuteTime": {
     "end_time": "2025-05-12T04:53:30.031829Z",
     "start_time": "2025-05-12T04:53:30.017641Z"
    }
   },
   "cell_type": "code",
   "source": "A",
   "id": "839b23348a7d47ce",
   "outputs": [
    {
     "data": {
      "text/plain": [
       "tensor([[ 0.,  1.,  2.,  3.],\n",
       "        [ 4.,  5.,  6.,  7.],\n",
       "        [ 8.,  9., 10., 11.],\n",
       "        [12., 13., 14., 15.],\n",
       "        [16., 17., 18., 19.]])"
      ]
     },
     "execution_count": 63,
     "metadata": {},
     "output_type": "execute_result"
    }
   ],
   "execution_count": 63
  },
  {
   "metadata": {
    "ExecuteTime": {
     "end_time": "2025-05-12T04:54:17.569283Z",
     "start_time": "2025-05-12T04:54:17.554269Z"
    }
   },
   "cell_type": "code",
   "source": [
    "B = torch.ones(4, 3)\n",
    "torch.mm(A, B), A@B"
   ],
   "id": "2ed98400a463633",
   "outputs": [
    {
     "data": {
      "text/plain": [
       "(tensor([[ 6.,  6.,  6.],\n",
       "         [22., 22., 22.],\n",
       "         [38., 38., 38.],\n",
       "         [54., 54., 54.],\n",
       "         [70., 70., 70.]]),\n",
       " tensor([[ 6.,  6.,  6.],\n",
       "         [22., 22., 22.],\n",
       "         [38., 38., 38.],\n",
       "         [54., 54., 54.],\n",
       "         [70., 70., 70.]]))"
      ]
     },
     "execution_count": 65,
     "metadata": {},
     "output_type": "execute_result"
    }
   ],
   "execution_count": 65
  },
  {
   "metadata": {},
   "cell_type": "markdown",
   "source": "L2范数：向量或矩阵的长度，是元素平方和开根号",
   "id": "b88b116225bff205"
  },
  {
   "metadata": {
    "ExecuteTime": {
     "end_time": "2025-05-12T05:08:23.181833Z",
     "start_time": "2025-05-12T05:08:23.168111Z"
    }
   },
   "cell_type": "code",
   "source": [
    "u = torch.tensor([3.0, -4.0])\n",
    "torch.norm(u) # (3^2 + 4^2)开根号"
   ],
   "id": "f68b51447d726a72",
   "outputs": [
    {
     "data": {
      "text/plain": [
       "tensor(5.)"
      ]
     },
     "execution_count": 66,
     "metadata": {},
     "output_type": "execute_result"
    }
   ],
   "execution_count": 66
  },
  {
   "metadata": {},
   "cell_type": "markdown",
   "source": "L1范数：每个元素绝对值之和",
   "id": "e99cf29e8c290b07"
  },
  {
   "metadata": {
    "ExecuteTime": {
     "end_time": "2025-05-12T05:09:20.562573Z",
     "start_time": "2025-05-12T05:09:20.542531Z"
    }
   },
   "cell_type": "code",
   "source": "torch.abs(u).sum() # 3 + 4",
   "id": "e26328c9853713df",
   "outputs": [
    {
     "data": {
      "text/plain": [
       "tensor(7.)"
      ]
     },
     "execution_count": 67,
     "metadata": {},
     "output_type": "execute_result"
    }
   ],
   "execution_count": 67
  },
  {
   "metadata": {},
   "cell_type": "markdown",
   "source": [
    "矩阵 弗罗贝尼乌斯范数(Frobenius norm) 也叫F范数 F-norm\n",
    "\n",
    "是矩阵元素的平方和开根号。 和向量的L2 norm实际上一样"
   ],
   "id": "a0ab94142a47ceb3"
  },
  {
   "metadata": {
    "ExecuteTime": {
     "end_time": "2025-05-12T05:12:14.578691Z",
     "start_time": "2025-05-12T05:12:14.557601Z"
    }
   },
   "cell_type": "code",
   "source": "torch.ones((4, 9)) , torch.norm(torch.ones((4, 9)))",
   "id": "f313e11b0163ee46",
   "outputs": [
    {
     "data": {
      "text/plain": [
       "(tensor([[1., 1., 1., 1., 1., 1., 1., 1., 1.],\n",
       "         [1., 1., 1., 1., 1., 1., 1., 1., 1.],\n",
       "         [1., 1., 1., 1., 1., 1., 1., 1., 1.],\n",
       "         [1., 1., 1., 1., 1., 1., 1., 1., 1.]]),\n",
       " tensor(6.))"
      ]
     },
     "execution_count": 69,
     "metadata": {},
     "output_type": "execute_result"
    }
   ],
   "execution_count": 69
  },
  {
   "metadata": {},
   "cell_type": "code",
   "outputs": [],
   "execution_count": null,
   "source": "",
   "id": "354a00180b7eaa87"
  }
 ],
 "metadata": {
  "kernelspec": {
   "display_name": "Python 3",
   "language": "python",
   "name": "python3"
  },
  "language_info": {
   "codemirror_mode": {
    "name": "ipython",
    "version": 2
   },
   "file_extension": ".py",
   "mimetype": "text/x-python",
   "name": "python",
   "nbconvert_exporter": "python",
   "pygments_lexer": "ipython2",
   "version": "2.7.6"
  }
 },
 "nbformat": 4,
 "nbformat_minor": 5
}
